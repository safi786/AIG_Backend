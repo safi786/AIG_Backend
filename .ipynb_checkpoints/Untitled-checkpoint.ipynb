{
 "cells": [
  {
   "cell_type": "code",
   "execution_count": 4,
   "id": "8c691b64",
   "metadata": {},
   "outputs": [],
   "source": [
    "import pandas as pd\n",
    "import numpy as np"
   ]
  },
  {
   "cell_type": "code",
   "execution_count": 8,
   "id": "e7ca1d2e",
   "metadata": {},
   "outputs": [
    {
     "ename": "SyntaxError",
     "evalue": "invalid syntax (Temp/ipykernel_9428/580187941.py, line 4)",
     "output_type": "error",
     "traceback": [
      "\u001b[1;36m  File \u001b[1;32m\"C:\\Users\\SAFI\\AppData\\Local\\Temp/ipykernel_9428/580187941.py\"\u001b[1;36m, line \u001b[1;32m4\u001b[0m\n\u001b[1;33m    my_array = np.array([[\"Pituitary adenoma\",61,\"female\",\"generalized fatigue/exhaustion\",\"fatigue\",\"bradycardia\",none,\"Antibodies to thyroid peroxidase were present at a high titer\",,\"Thyroid isotope scan showed normal uptake in both lobes.\",\"Prognosis\"]])\u001b[0m\n\u001b[1;37m                                                                                                                                                                                        ^\u001b[0m\n\u001b[1;31mSyntaxError\u001b[0m\u001b[1;31m:\u001b[0m invalid syntax\n"
     ]
    }
   ],
   "source": [
    "df1 = pd.read_csv(\"dataset2.csv\")\n",
    "answers_count = 2\n",
    "\n",
    "my_array = np.array([[\"Iron deficiency anemia\",20, \"male\", \"dry skin\",\"\",\"coarse hair\",\"fragile skin\",\"Free T4 levels were high.\", ,\"Thyroid ultrasound showed a cystic nodule in right lobe.\",\"diagnosis\"]])\n",
    "df2 = pd.DataFrame(my_array, columns=['Option', 'Age', 'Gender', 'Symptom1', 'Symptom2', 'Physical1', 'Physical2', 'Laboratory1',\n",
    "                                      'Laboratory2', 'Radiology', 'Question category'])\n",
    "# print(df2)"
   ]
  },
  {
   "cell_type": "code",
   "execution_count": null,
   "id": "69ebd076",
   "metadata": {},
   "outputs": [],
   "source": []
  }
 ],
 "metadata": {
  "kernelspec": {
   "display_name": "Python 3 (ipykernel)",
   "language": "python",
   "name": "python3"
  },
  "language_info": {
   "codemirror_mode": {
    "name": "ipython",
    "version": 3
   },
   "file_extension": ".py",
   "mimetype": "text/x-python",
   "name": "python",
   "nbconvert_exporter": "python",
   "pygments_lexer": "ipython3",
   "version": "3.9.7"
  }
 },
 "nbformat": 4,
 "nbformat_minor": 5
}
